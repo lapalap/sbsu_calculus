{
 "cells": [
  {
   "cell_type": "markdown",
   "metadata": {
    "collapsed": true
   },
   "source": [
    "# Homework #5"
   ]
  },
  {
   "cell_type": "markdown",
   "metadata": {},
   "source": [
    "27.11.2017\n",
    "Python 3.6"
   ]
  },
  {
   "cell_type": "markdown",
   "metadata": {},
   "source": [
    "### Метод сеток для решения обыкновенного дифференциального уравнения 2-го порядка, краевая задача"
   ]
  },
  {
   "cell_type": "markdown",
   "metadata": {},
   "source": [
    "#### Правая прогонка"
   ]
  },
  {
   "cell_type": "markdown",
   "metadata": {},
   "source": [
    "y''+ p(x) * y' + q(x) * y = f(x)"
   ]
  },
  {
   "cell_type": "code",
   "execution_count": 23,
   "metadata": {
    "collapsed": true
   },
   "outputs": [],
   "source": [
    "import numpy as np\n",
    "import matplotlib.pyplot as plt\n",
    "import seaborn as sns"
   ]
  },
  {
   "cell_type": "markdown",
   "metadata": {},
   "source": [
    "## Модельное решение"
   ]
  },
  {
   "cell_type": "markdown",
   "metadata": {},
   "source": [
    "$$y'' - \\log(1+3x)y = 6*(x+2) - (x+2)^3\\log(1+3x)$$\n",
    "$$y = (x+2)^3$$"
   ]
  },
  {
   "cell_type": "code",
   "execution_count": 24,
   "metadata": {
    "collapsed": false
   },
   "outputs": [],
   "source": [
    "n = 100\n",
    "r = 1\n",
    "l = 0\n",
    "\n",
    "h = (r-l)/n\n",
    "\n",
    "X = np.linspace(0, 1, num=n+1)"
   ]
  },
  {
   "cell_type": "code",
   "execution_count": 25,
   "metadata": {
    "collapsed": false
   },
   "outputs": [
    {
     "data": {
      "text/plain": [
       "array([ 0.  ,  0.01,  0.02,  0.03,  0.04,  0.05,  0.06,  0.07,  0.08,\n",
       "        0.09,  0.1 ,  0.11,  0.12,  0.13,  0.14,  0.15,  0.16,  0.17,\n",
       "        0.18,  0.19,  0.2 ,  0.21,  0.22,  0.23,  0.24,  0.25,  0.26,\n",
       "        0.27,  0.28,  0.29,  0.3 ,  0.31,  0.32,  0.33,  0.34,  0.35,\n",
       "        0.36,  0.37,  0.38,  0.39,  0.4 ,  0.41,  0.42,  0.43,  0.44,\n",
       "        0.45,  0.46,  0.47,  0.48,  0.49,  0.5 ,  0.51,  0.52,  0.53,\n",
       "        0.54,  0.55,  0.56,  0.57,  0.58,  0.59,  0.6 ,  0.61,  0.62,\n",
       "        0.63,  0.64,  0.65,  0.66,  0.67,  0.68,  0.69,  0.7 ,  0.71,\n",
       "        0.72,  0.73,  0.74,  0.75,  0.76,  0.77,  0.78,  0.79,  0.8 ,\n",
       "        0.81,  0.82,  0.83,  0.84,  0.85,  0.86,  0.87,  0.88,  0.89,\n",
       "        0.9 ,  0.91,  0.92,  0.93,  0.94,  0.95,  0.96,  0.97,  0.98,\n",
       "        0.99,  1.  ])"
      ]
     },
     "execution_count": 25,
     "metadata": {},
     "output_type": "execute_result"
    }
   ],
   "source": [
    "X"
   ]
  },
  {
   "cell_type": "code",
   "execution_count": 26,
   "metadata": {
    "collapsed": false
   },
   "outputs": [],
   "source": [
    "def polynome(x):\n",
    "    return (x+2.)*(x+2.)*(x+2.)\n",
    "\n",
    "def q(x):\n",
    "    return -np.log(1. + 3.*x)\n",
    "\n",
    "def f(x):\n",
    "    return 6.*(x+2.) - (x+2.)*(x+2.)*(x+2.)*np.log( 1. + 3.*x)\n",
    "\n",
    "def p(x):\n",
    "    return 0.\n",
    "\n",
    "def a(i):\n",
    "    return 1.\n",
    "\n",
    "def c(i):\n",
    "    return 1.\n",
    "\n",
    "def b(i):\n",
    "    return 2. - h * h * q(X[i])\n",
    "\n",
    "def g(i):\n",
    "    return h * h * f(X[i])"
   ]
  },
  {
   "cell_type": "code",
   "execution_count": 27,
   "metadata": {
    "collapsed": false
   },
   "outputs": [
    {
     "data": {
      "text/plain": [
       "0.01"
      ]
     },
     "execution_count": 27,
     "metadata": {},
     "output_type": "execute_result"
    }
   ],
   "source": [
    "h"
   ]
  },
  {
   "cell_type": "code",
   "execution_count": 28,
   "metadata": {
    "collapsed": false
   },
   "outputs": [
    {
     "name": "stdout",
     "output_type": "stream",
     "text": [
      "0.996940240972 0.35089310355\n"
     ]
    }
   ],
   "source": [
    "kappa_1 = (-q(X[1])*h*h -2.) / (-2.- h)\n",
    "upsilon_1 = (16.*h + g(1)) / (-2. - h)\n",
    "kappa_2 = (2. + q(X[n-1])*h*h) / (2 + 0.6 * h)\n",
    "upsilon_2 = (70.2 * h  - g(n-1)) / (2 + 0.6 * h)\n",
    "\n",
    "print(kappa_2,upsilon_2)"
   ]
  },
  {
   "cell_type": "code",
   "execution_count": 29,
   "metadata": {
    "collapsed": false,
    "scrolled": true
   },
   "outputs": [],
   "source": [
    "u = [0 for i in range(0,n+1)]\n",
    "v = [0 for i in range(0,n+1)]\n",
    "Y = np.array([0 for i in range(0,n+1)], dtype = float)\n",
    "\n",
    "u[n] = kappa_2\n",
    "v[n] = upsilon_2\n",
    "\n",
    "for i in reversed(range(0,n)):\n",
    "    u[i] = 1. / (b(i) - u[i+1])\n",
    "    v[i] = (v[i+1] - g(i))/(b(i) - u[i+1])\n",
    "\n",
    "Y[0] = (upsilon_1 + kappa_1*v[1])/(1 - kappa_1*u[1])\n",
    "\n",
    "for i in range(1,n+1):\n",
    "    Y[i] = Y[i-1]*u[i]+v[i]"
   ]
  },
  {
   "cell_type": "code",
   "execution_count": 30,
   "metadata": {
    "collapsed": false
   },
   "outputs": [
    {
     "data": {
      "text/plain": [
       "array([  7.93626794e-05,   7.77596077e-05,   7.61567659e-05,\n",
       "         7.45543678e-05,   7.29526122e-05,   7.13516834e-05,\n",
       "         6.97517518e-05,   6.81529747e-05,   6.65554968e-05,\n",
       "         6.49594505e-05,   6.33649568e-05,   6.17721256e-05,\n",
       "         6.01810561e-05,   5.85918370e-05,   5.70045474e-05,\n",
       "         5.54192566e-05,   5.38360251e-05,   5.22549041e-05,\n",
       "         5.06759366e-05,   4.90991572e-05,   4.75245926e-05,\n",
       "         4.59522616e-05,   4.43821758e-05,   4.28143393e-05,\n",
       "         4.12487494e-05,   3.96853966e-05,   3.81242646e-05,\n",
       "         3.65653309e-05,   3.50085667e-05,   3.34539372e-05,\n",
       "         3.19014017e-05,   3.03509138e-05,   2.88024216e-05,\n",
       "         2.72558676e-05,   2.57111892e-05,   2.41683185e-05,\n",
       "         2.26271827e-05,   2.10877041e-05,   1.95498000e-05,\n",
       "         1.80133834e-05,   1.64783622e-05,   1.49446403e-05,\n",
       "         1.34121170e-05,   1.18806873e-05,   1.03502419e-05,\n",
       "         8.82066759e-06,   7.29184692e-06,   5.76365853e-06,\n",
       "         4.23597712e-06,   2.70867357e-06,   1.18161494e-06,\n",
       "         3.45335430e-07,   1.87231785e-06,   3.39947626e-06,\n",
       "         4.92695820e-06,   6.45491469e-06,   7.98350024e-06,\n",
       "         9.51287281e-06,   1.10431938e-05,   1.25746279e-05,\n",
       "         1.41073431e-05,   1.56415108e-05,   1.71773057e-05,\n",
       "         1.87149057e-05,   2.02544918e-05,   2.17962483e-05,\n",
       "         2.33403627e-05,   2.48870257e-05,   2.64364312e-05,\n",
       "         2.79887760e-05,   2.95442602e-05,   3.11030870e-05,\n",
       "         3.26654628e-05,   3.42315971e-05,   3.58017022e-05,\n",
       "         3.73759940e-05,   3.89546910e-05,   4.05380153e-05,\n",
       "         4.21261918e-05,   4.37194486e-05,   4.53180169e-05,\n",
       "         4.69221311e-05,   4.85320287e-05,   5.01479505e-05,\n",
       "         5.17701403e-05,   5.33988452e-05,   5.50343154e-05,\n",
       "         5.66768044e-05,   5.83265691e-05,   5.99838695e-05,\n",
       "         6.16489690e-05,   6.33221342e-05,   6.50036352e-05,\n",
       "         6.66937454e-05,   6.83927416e-05,   7.01009042e-05,\n",
       "         7.18185169e-05,   7.35458670e-05,   7.52832453e-05,\n",
       "         7.70309464e-05,   7.87892682e-05])"
      ]
     },
     "execution_count": 30,
     "metadata": {},
     "output_type": "execute_result"
    }
   ],
   "source": [
    "vals = np.array([polynome(i) for i in X], dtype = float)\n",
    "abs(Y-vals)"
   ]
  },
  {
   "cell_type": "code",
   "execution_count": 31,
   "metadata": {
    "collapsed": false,
    "scrolled": true
   },
   "outputs": [
    {
     "data": {
      "image/png": "[encoded data removed]",
      "text/plain": [
       "<matplotlib.figure.Figure at 0x2be85ec7048>"
      ]
     },
     "metadata": {},
     "output_type": "display_data"
    }
   ],
   "source": [
    "plt.plot( X, Y, linestyle='dashed')\n",
    "plt.plot(X, vals, linestyle='-.')\n",
    "plt.ylim(8.,27.)\n",
    "plt.show()"
   ]
  },
  {
   "cell_type": "code",
   "execution_count": 32,
   "metadata": {
    "collapsed": false
   },
   "outputs": [
    {
     "data": {
      "text/plain": [
       "array([  7.99992064,   8.12052324,   8.24233184,   8.36535245,\n",
       "         8.48959105,   8.61505365,   8.74174625,   8.86967485,\n",
       "         8.99884544,   9.12926404,   9.26093664,   9.39386923,\n",
       "         9.52806782,   9.66353841,   9.800287  ,   9.93831958,\n",
       "        10.07764216,  10.21826075,  10.36018132,  10.5034099 ,\n",
       "        10.64795248,  10.79381505,  10.94100362,  11.08952419,\n",
       "        11.23938275,  11.39058531,  11.54313788,  11.69704643,\n",
       "        11.85231699,  12.00895555,  12.1669681 ,  12.32636065,\n",
       "        12.4871392 ,  12.64930974,  12.81287829,  12.97785083,\n",
       "        13.14423337,  13.31203191,  13.48125245,  13.65190099,\n",
       "        13.82398352,  13.99750606,  14.17247459,  14.34889512,\n",
       "        14.52677365,  14.70611618,  14.88692871,  15.06921724,\n",
       "        15.25298776,  15.43824629,  15.62499882,  15.81325135,\n",
       "        16.00300987,  16.1942804 ,  16.38706893,  16.58138145,\n",
       "        16.77722398,  16.97460251,  17.17352304,  17.37399157,\n",
       "        17.57601411,  17.77959664,  17.98474518,  18.19146571,\n",
       "        18.39976425,  18.6096468 ,  18.82111934,  19.03418789,\n",
       "        19.24885844,  19.46513699,  19.68302954,  19.9025421 ,\n",
       "        20.12368067,  20.34645123,  20.5708598 ,  20.79691238,\n",
       "        21.02461495,  21.25397354,  21.48499413,  21.71768272,\n",
       "        21.95204532,  22.18808792,  22.42581653,  22.66523715,\n",
       "        22.90635577,  23.1491784 ,  23.39371103,  23.63995968,\n",
       "        23.88793033,  24.13762898,  24.38906165,  24.64223432,\n",
       "        24.897153  ,  25.15382369,  25.41225239,  25.6724451 ,\n",
       "        25.93440782,  26.19814655,  26.46366728,  26.73097603,  27.00007879])"
      ]
     },
     "execution_count": 32,
     "metadata": {},
     "output_type": "execute_result"
    }
   ],
   "source": [
    "def TDMAsolver(a, b, c, d):\n",
    "    '''\n",
    "    TDMA solver, a b c d can be NumPy array type or Python list type.\n",
    "    refer to http://en.wikipedia.org/wiki/Tridiagonal_matrix_algorithm\n",
    "    and to http://www.cfd-online.com/Wiki/Tridiagonal_matrix_algorithm_-_TDMA_(Thomas_algorithm)\n",
    "    '''\n",
    "    nf = len(d) # number of equations\n",
    "    ac, bc, cc, dc = map(np.array, (a, b, c, d)) # copy arrays\n",
    "    for it in range(1, nf):\n",
    "        mc = ac[it-1]/bc[it-1]\n",
    "        bc[it] = bc[it] - mc*cc[it-1] \n",
    "        dc[it] = dc[it] - mc*dc[it-1]\n",
    "        \n",
    "    xc = bc\n",
    "    xc[-1] = dc[-1]/bc[-1]\n",
    "\n",
    "    for il in range(nf-2, -1, -1):\n",
    "        xc[il] = (dc[il]-cc[il]*xc[il+1])/bc[il]\n",
    "\n",
    "    return xc\n",
    "\n",
    "A = np.array([1. for i in range(1,n)]+[-kappa_2]) \n",
    "B = np.array([1.]+[-b(i) for i in range(1,n)]+[1.])\n",
    "C = np.array([-kappa_1]+[1. for i in range(1,n)])\n",
    "D = np.array([upsilon_1]+[g(i) for i in range(1,n)]+[upsilon_2]) \n",
    "\n",
    "y2=TDMAsolver(A, B, C, D)\n",
    "abs(y2)"
   ]
  },
  {
   "cell_type": "markdown",
   "metadata": {},
   "source": [
    "## Модельное решение 2"
   ]
  },
  {
   "cell_type": "markdown",
   "metadata": {},
   "source": [
    "### Задача\n",
    "y'(0) = 0.5 * y(0) + 0.1\n",
    "\n",
    "y'(1) =-0.3 * y(1) + 0.2\n",
    "\n",
    "-y'' + log(1+3x)*y = x - x^2\n"
   ]
  },
  {
   "cell_type": "code",
   "execution_count": 33,
   "metadata": {
    "collapsed": true
   },
   "outputs": [],
   "source": [
    "n = 10\n",
    "r = 1\n",
    "l = 0\n",
    "\n",
    "h = (r-l)/n\n",
    "\n",
    "X = np.linspace(0, 1, num=n+1)"
   ]
  },
  {
   "cell_type": "code",
   "execution_count": 34,
   "metadata": {
    "collapsed": true
   },
   "outputs": [],
   "source": [
    "def q(x):\n",
    "    return -np.log( 1. + 3.*x)\n",
    "\n",
    "def f(x):\n",
    "    return -x + x*x\n",
    "\n",
    "def p(x):\n",
    "    return 0."
   ]
  },
  {
   "cell_type": "code",
   "execution_count": 35,
   "metadata": {
    "collapsed": true
   },
   "outputs": [],
   "source": [
    "def a(i):\n",
    "    return 1. + (h / 2.)*p(X[i])\n",
    "\n",
    "def c(i):\n",
    "    return 1. - (h / 2.)*p(X[i])\n",
    "\n",
    "def b(i):\n",
    "    return 2. - h * h * q(X[i])\n",
    "\n",
    "def g(i):\n",
    "    return h * h * f(X[i])"
   ]
  },
  {
   "cell_type": "code",
   "execution_count": 36,
   "metadata": {
    "collapsed": false
   },
   "outputs": [],
   "source": [
    "kappa_1 = (-q(X[1])*h*h -2.) / (-2.- h)\n",
    "upsilon_1 = (0.2*h + g(1)) / (-2. - h)\n",
    "kappa_2 = (2. + q(X[n-1])*h*h) / (2 + 0.6 * h)\n",
    "upsilon_2 = (0.4 * h  - g(n-1)) / (2 + 0.6 * h)"
   ]
  },
  {
   "cell_type": "code",
   "execution_count": 37,
   "metadata": {
    "collapsed": false,
    "scrolled": true
   },
   "outputs": [],
   "source": [
    "u = [0 for i in range(0,n+1)]\n",
    "v = [0 for i in range(0,n+1)]\n",
    "Y = np.array([0 for i in range(0,n+1)], dtype = float)\n",
    "\n",
    "u[n] = kappa_2\n",
    "v[n] = upsilon_2\n",
    "\n",
    "for i in reversed(range(0,n)):\n",
    "    u[i] = c(i) / (b(i) - a(i)*u[i+1])\n",
    "    v[i] = (a(i)*v[i+1] - g(i))/(b(i) - a(i)*u[i+1])\n",
    "\n",
    "Y[0] = (upsilon_1 + kappa_1*v[0])/(1 - kappa_1*u[0])\n",
    "\n",
    "for i in range(1,n+1):\n",
    "    Y[i] = Y[i-1]*u[i]+v[i]"
   ]
  },
  {
   "cell_type": "code",
   "execution_count": 38,
   "metadata": {
    "collapsed": false
   },
   "outputs": [
    {
     "data": {
      "image/png": "[encoded data removed]",
      "text/plain": [
       "<matplotlib.figure.Figure at 0x2be872c4668>"
      ]
     },
     "metadata": {},
     "output_type": "display_data"
    }
   ],
   "source": [
    "plt.plot( X, Y, linestyle='dashed')\n",
    "plt.show()"
   ]
  }
 ],
 "metadata": {
  "kernelspec": {
   "display_name": "Python 3",
   "language": "python",
   "name": "python3"
  },
  "language_info": {
   "codemirror_mode": {
    "name": "ipython",
    "version": 3
   },
   "file_extension": ".py",
   "mimetype": "text/x-python",
   "name": "python",
   "nbconvert_exporter": "python",
   "pygments_lexer": "ipython3",
   "version": "3.6.0"
  }
 },
 "nbformat": 4,
 "nbformat_minor": 2
}
