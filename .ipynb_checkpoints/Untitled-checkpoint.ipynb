{
 "cells": [
  {
   "cell_type": "markdown",
   "metadata": {
    "collapsed": true
   },
   "source": [
    "# Homework #5"
   ]
  },
  {
   "cell_type": "markdown",
   "metadata": {},
   "source": [
    "27.11.2017\n",
    "Python 3.6"
   ]
  },
  {
   "cell_type": "markdown",
   "metadata": {},
   "source": [
    "### Метод сеток для решения обыкновенного дифференциального уравнения 2-го порядка, краевая задача"
   ]
  },
  {
   "cell_type": "markdown",
   "metadata": {},
   "source": [
    "#### Правая прогонка"
   ]
  },
  {
   "cell_type": "markdown",
   "metadata": {},
   "source": [
    "y''+ p(x) * y' + q(x) * y = f(x)"
   ]
  },
  {
   "cell_type": "code",
   "execution_count": 3,
   "metadata": {
    "collapsed": true
   },
   "outputs": [],
   "source": [
    "import numpy as np"
   ]
  },
  {
   "cell_type": "code",
   "execution_count": 31,
   "metadata": {
    "collapsed": false
   },
   "outputs": [],
   "source": [
    "n = 100\n",
    "r = 0.\n",
    "l = 1.\n",
    "h = (r-l) / n\n",
    "\n",
    "def x_i(i):\n",
    "    return r + i*h\n",
    "\n",
    "grid = [x_i(i) for i in range(0, n+1)]"
   ]
  },
  {
   "cell_type": "markdown",
   "metadata": {},
   "source": [
    "### Задача\n",
    "y'(0) = 0.5 * y(0) + 0.1\n",
    "\n",
    "y'(1) =-0.3 * y(1) + 0.2\n",
    "\n",
    "-y'' + log(1+3x) = x - x^2\n"
   ]
  },
  {
   "cell_type": "code",
   "execution_count": 10,
   "metadata": {
    "collapsed": true
   },
   "outputs": [],
   "source": [
    "def q(x):\n",
    "    return np.log( 1. + 3.*x)\n",
    "\n",
    "def f(x):\n",
    "    return x - x*x\n",
    "\n",
    "def p(x):\n",
    "    return 0"
   ]
  },
  {
   "cell_type": "code",
   "execution_count": 11,
   "metadata": {
    "collapsed": true
   },
   "outputs": [],
   "source": [
    "def a(i):\n",
    "    return 1. + (h / 2.)*p(x_i(i))\n",
    "\n",
    "def c(i):\n",
    "    return 1. - (h / 2.)*p(x_i(i))\n",
    "\n",
    "def b(i):\n",
    "    return 2. - h * h * q(x_i(i))\n",
    "\n",
    "def g(i):\n",
    "    return h * h * f(x_i(i))"
   ]
  },
  {
   "cell_type": "code",
   "execution_count": 12,
   "metadata": {
    "collapsed": true
   },
   "outputs": [],
   "source": [
    "def u(a_i, b_i, c_i, u_prev):\n",
    "    return a_i / (b_i - c_i * u_prev)\n",
    "\n",
    "def v(b_i, c_i, g_i, u_prev, v_prev):\n",
    "    return (c_i*v_prev - g_i) / (b_i - c_i * u_prev)    "
   ]
  },
  {
   "cell_type": "markdown",
   "metadata": {},
   "source": [
    "Для данной задачи выведено, что:\n",
    "\n",
    "\n",
    "$$\\kappa_2 = \\frac{4c_{n-1} - b_{n-1}}{3c_{n-1} - a_{n-1}+ 0,6hc_{n-1}}$$\n",
    "\n",
    "$$\\upsilon_2 = \\frac{0,4hc_{n-1} - g_{n-1}}{3c_{n-1} - a_{n-1}+ 0,6hc_{n-1}}$$\n"
   ]
  },
  {
   "cell_type": "code",
   "execution_count": 34,
   "metadata": {
    "collapsed": true
   },
   "outputs": [],
   "source": [
    "kappa_1 = (-4 * a(1) + b(1) ) / (-3 * a(1) + c(1) -h * a(1))\n",
    "upsilon_1 = (0.2*h*a(1) + g(1)) / (-3 * a(1) + c(1) -h * a(1))"
   ]
  },
  {
   "cell_type": "code",
   "execution_count": 35,
   "metadata": {
    "collapsed": false
   },
   "outputs": [
    {
     "name": "stderr",
     "output_type": "stream",
     "text": [
      "C:\\ProgramData\\Anaconda3\\lib\\site-packages\\ipykernel\\__main__.py:2: RuntimeWarning: invalid value encountered in log\n",
      "  from ipykernel import kernelapp as app\n"
     ]
    },
    {
     "data": {
      "text/plain": [
       "-0.0019072166499498496"
      ]
     },
     "execution_count": 35,
     "metadata": {},
     "output_type": "execute_result"
    }
   ],
   "source": [
    "kappa_2 = (4.* c(n-1) - b(n-1)) / (3 * c(n-1) - a(n-1) + 0.6 * h * c(n-1))\n",
    "upsilon_2 = (0.4 * h * c(n-1) - g(n-1)) / (3 * c(n-1) - a(n-1) + 0.6 * h * c(n-1))\n",
    "upsilon_2"
   ]
  },
  {
   "cell_type": "code",
   "execution_count": null,
   "metadata": {
    "collapsed": true
   },
   "outputs": [],
   "source": [
    "u = kappa\n",
    "v = upsilon"
   ]
  },
  {
   "cell_type": "code",
   "execution_count": null,
   "metadata": {
    "collapsed": true
   },
   "outputs": [],
   "source": [
    "def y(i, u_nxt, v_nxt):\n",
    "    if i==n:\n",
    "        u_curr = kappa_2\n",
    "        v_curr = upsilon_2\n",
    "    u_curr = c(i) / (b(i) - a(i)*u_nxt)\n",
    "    v_curr = (a(i)*v_nxt - g(i))/(b(i) - a(i)*u_nxt)\n",
    "    if i==0:\n",
    "        return (upsilon_1 + kappa_1*v_curr)/(1 - kappa_1*u_curr)\n",
    "    if i==n:\n",
    "        \n",
    "    return  u_curr * y(i-1, u_curr, v_curr) +v_curr"
   ]
  }
 ],
 "metadata": {
  "kernelspec": {
   "display_name": "Python 3",
   "language": "python",
   "name": "python3"
  },
  "language_info": {
   "codemirror_mode": {
    "name": "ipython",
    "version": 3
   },
   "file_extension": ".py",
   "mimetype": "text/x-python",
   "name": "python",
   "nbconvert_exporter": "python",
   "pygments_lexer": "ipython3",
   "version": "3.6.0"
  }
 },
 "nbformat": 4,
 "nbformat_minor": 2
}
