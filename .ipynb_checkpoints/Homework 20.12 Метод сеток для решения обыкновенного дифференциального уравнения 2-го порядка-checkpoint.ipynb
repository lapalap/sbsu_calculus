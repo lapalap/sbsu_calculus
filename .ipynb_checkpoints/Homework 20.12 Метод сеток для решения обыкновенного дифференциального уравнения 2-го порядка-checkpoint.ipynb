{
 "cells": [
  {
   "cell_type": "markdown",
   "metadata": {
    "collapsed": true
   },
   "source": [
    "# Homework #5"
   ]
  },
  {
   "cell_type": "markdown",
   "metadata": {},
   "source": [
    "27.11.2017\n",
    "Python 3.6"
   ]
  },
  {
   "cell_type": "markdown",
   "metadata": {},
   "source": [
    "### Метод сеток для решения обыкновенного дифференциального уравнения 2-го порядка, краевая задача"
   ]
  },
  {
   "cell_type": "markdown",
   "metadata": {},
   "source": [
    "#### Правая прогонка"
   ]
  },
  {
   "cell_type": "markdown",
   "metadata": {},
   "source": [
    "y''+ p(x) * y' + q(x) * y = f(x)"
   ]
  },
  {
   "cell_type": "code",
   "execution_count": 407,
   "metadata": {
    "collapsed": true
   },
   "outputs": [],
   "source": [
    "import numpy as np"
   ]
  },
  {
   "cell_type": "code",
   "execution_count": 428,
   "metadata": {
    "collapsed": false
   },
   "outputs": [],
   "source": [
    "n = 3\n",
    "r = 0.\n",
    "l = 1.\n",
    "h = (l - r) / n\n",
    "\n",
    "def x_i(i):\n",
    "    return r + i*h\n",
    "\n",
    "grid = [[x_i(i),0] for i in range(0, n+1)]"
   ]
  },
  {
   "cell_type": "markdown",
   "metadata": {},
   "source": [
    "### Задача\n",
    "y'(0) = 0.5 * y(0) + 0.1\n",
    "\n",
    "y'(1) =-0.3 * y(1) + 0.2\n",
    "\n",
    "-y'' + log(1+3x) = x - x^2\n"
   ]
  },
  {
   "cell_type": "code",
   "execution_count": 409,
   "metadata": {
    "collapsed": true
   },
   "outputs": [],
   "source": [
    "def q(x):\n",
    "    return np.log( 1. + 3.*x)\n",
    "\n",
    "def f(x):\n",
    "    return x - x*x\n",
    "\n",
    "def p(x):\n",
    "    return 0."
   ]
  },
  {
   "cell_type": "code",
   "execution_count": 410,
   "metadata": {
    "collapsed": true
   },
   "outputs": [],
   "source": [
    "def a(i):\n",
    "    return 1. + (h / 2.)*p(x_i(i))\n",
    "\n",
    "def c(i):\n",
    "    return 1. - (h / 2.)*p(x_i(i))\n",
    "\n",
    "def b(i):\n",
    "    return 2. - h * h * q(x_i(i))\n",
    "\n",
    "def g(i):\n",
    "    return h * h * f(x_i(i))"
   ]
  },
  {
   "cell_type": "code",
   "execution_count": 411,
   "metadata": {
    "collapsed": true
   },
   "outputs": [],
   "source": [
    "def u(a_i, b_i, c_i, u_prev):\n",
    "    return a_i / (b_i * u_prev)\n",
    "\n",
    "def v(b_i, c_i, g_i, u_prev, v_prev):\n",
    "    return (c_i*v_prev - g_i) / (b_i - c_i * u_prev)    "
   ]
  },
  {
   "cell_type": "markdown",
   "metadata": {},
   "source": [
    "Для данной задачи выведено, что:\n",
    "\n",
    "\n",
    "$$\\kappa_2 = \\frac{4c_{n-1} - b_{n-1}}{3c_{n-1} - a_{n-1}+ 0,6hc_{n-1}}$$\n",
    "\n",
    "$$\\upsilon_2 = \\frac{0,4hc_{n-1} - g_{n-1}}{3c_{n-1} - a_{n-1}+ 0,6hc_{n-1}}$$\n"
   ]
  },
  {
   "cell_type": "code",
   "execution_count": 412,
   "metadata": {
    "collapsed": false
   },
   "outputs": [
    {
     "name": "stdout",
     "output_type": "stream",
     "text": [
      "0.995026346209 -0.0009955174129353235\n"
     ]
    }
   ],
   "source": [
    "kappa_1 = (-4. + b(1)/a(1)) / (-3  + c(1)/a(1) - h)\n",
    "upsilon_1 = (0.2*h + g(1)/a(1)) / (-3  + c(1)/a(1) - h)\n",
    "print(kappa_1, upsilon_1)"
   ]
  },
  {
   "cell_type": "code",
   "execution_count": 413,
   "metadata": {
    "collapsed": false
   },
   "outputs": [
    {
     "name": "stdout",
     "output_type": "stream",
     "text": [
      "0.997077705189 0.0019935244267198404\n"
     ]
    }
   ],
   "source": [
    "kappa_2 = (4.* c(n-1) - b(n-1)) / (3 * c(n-1) - a(n-1) + 0.6 * h * c(n-1))\n",
    "upsilon_2 = (0.4 * h * c(n-1) - g(n-1)) / (3 * c(n-1) - a(n-1) + 0.6 * h * c(n-1))\n",
    "print(kappa_2, upsilon_2)"
   ]
  },
  {
   "cell_type": "code",
   "execution_count": 424,
   "metadata": {
    "collapsed": false
   },
   "outputs": [
    {
     "data": {
      "text/plain": [
       "90.416272047756067"
      ]
     },
     "execution_count": 424,
     "metadata": {},
     "output_type": "execute_result"
    }
   ],
   "source": [
    "def y(i, u_nxt, v_nxt):\n",
    "    if i==n:\n",
    "        u_curr = u_nxt\n",
    "        v_curr = v_nxt\n",
    "    else:\n",
    "        u_curr = c(i) / (b(i) - a(i)*u_nxt)\n",
    "        v_curr = (a(i)*v_nxt - g(i))/(b(i) - a(i)*u_nxt)\n",
    "    if i==0:\n",
    "        res = (upsilon_1 + kappa_1*v_curr)/(1 - kappa_1*u_curr)\n",
    "        grid[0][1] = res\n",
    "        return res\n",
    "    res =  v_curr + u_curr * y(i-1, u_curr, v_curr)\n",
    "    grid[i][1] = res\n",
    "    return  res\n",
    "grid = np.array(grid)\n",
    "y(n, kappa_2, upsilon_2)"
   ]
  },
  {
   "cell_type": "code",
   "execution_count": 415,
   "metadata": {
    "collapsed": false,
    "scrolled": true
   },
   "outputs": [
    {
     "data": {
      "text/plain": [
       "array([[ 0.        ,  0.23127556],\n",
       "       [ 0.01      ,  0.23341684],\n",
       "       [ 0.02      ,  0.23555841],\n",
       "       [ 0.03      ,  0.23770058],\n",
       "       [ 0.04      ,  0.2398436 ],\n",
       "       [ 0.05      ,  0.24198775],\n",
       "       [ 0.06      ,  0.24413326],\n",
       "       [ 0.07      ,  0.24628038],\n",
       "       [ 0.08      ,  0.24842931],\n",
       "       [ 0.09      ,  0.25058025],\n",
       "       [ 0.1       ,  0.2527334 ],\n",
       "       [ 0.11      ,  0.25488892],\n",
       "       [ 0.12      ,  0.25704695],\n",
       "       [ 0.13      ,  0.25920765],\n",
       "       [ 0.14      ,  0.26137111],\n",
       "       [ 0.15      ,  0.26353745],\n",
       "       [ 0.16      ,  0.26570675],\n",
       "       [ 0.17      ,  0.26787908],\n",
       "       [ 0.18      ,  0.27005447],\n",
       "       [ 0.19      ,  0.27223296],\n",
       "       [ 0.2       ,  0.27441457],\n",
       "       [ 0.21      ,  0.27659927],\n",
       "       [ 0.22      ,  0.27878705],\n",
       "       [ 0.23      ,  0.28097787],\n",
       "       [ 0.24      ,  0.28317165],\n",
       "       [ 0.25      ,  0.28536831],\n",
       "       [ 0.26      ,  0.28756775],\n",
       "       [ 0.27      ,  0.28976985],\n",
       "       [ 0.28      ,  0.29197447],\n",
       "       [ 0.29      ,  0.29418144],\n",
       "       [ 0.3       ,  0.29639059],\n",
       "       [ 0.31      ,  0.29860172],\n",
       "       [ 0.32      ,  0.3008146 ],\n",
       "       [ 0.33      ,  0.303029  ],\n",
       "       [ 0.34      ,  0.30524465],\n",
       "       [ 0.35      ,  0.30746129],\n",
       "       [ 0.36      ,  0.3096786 ],\n",
       "       [ 0.37      ,  0.31189628],\n",
       "       [ 0.38      ,  0.31411397],\n",
       "       [ 0.39      ,  0.31633133],\n",
       "       [ 0.4       ,  0.31854797],\n",
       "       [ 0.41      ,  0.32076349],\n",
       "       [ 0.42      ,  0.32297748],\n",
       "       [ 0.43      ,  0.3251895 ],\n",
       "       [ 0.44      ,  0.32739908],\n",
       "       [ 0.45      ,  0.32960575],\n",
       "       [ 0.46      ,  0.331809  ],\n",
       "       [ 0.47      ,  0.33400833],\n",
       "       [ 0.48      ,  0.33620318],\n",
       "       [ 0.49      ,  0.33839301],\n",
       "       [ 0.5       ,  0.34057722],\n",
       "       [ 0.51      ,  0.34275523],\n",
       "       [ 0.52      ,  0.34492642],\n",
       "       [ 0.53      ,  0.34709014],\n",
       "       [ 0.54      ,  0.34924574],\n",
       "       [ 0.55      ,  0.35139254],\n",
       "       [ 0.56      ,  0.35352985],\n",
       "       [ 0.57      ,  0.35565695],\n",
       "       [ 0.58      ,  0.35777309],\n",
       "       [ 0.59      ,  0.35987754],\n",
       "       [ 0.6       ,  0.36196951],\n",
       "       [ 0.61      ,  0.36404821],\n",
       "       [ 0.62      ,  0.36611283],\n",
       "       [ 0.63      ,  0.36816254],\n",
       "       [ 0.64      ,  0.37019649],\n",
       "       [ 0.65      ,  0.3722138 ],\n",
       "       [ 0.66      ,  0.3742136 ],\n",
       "       [ 0.67      ,  0.37619498],\n",
       "       [ 0.68      ,  0.37815702],\n",
       "       [ 0.69      ,  0.38009877],\n",
       "       [ 0.7       ,  0.38201927],\n",
       "       [ 0.71      ,  0.38391755],\n",
       "       [ 0.72      ,  0.38579262],\n",
       "       [ 0.73      ,  0.38764346],\n",
       "       [ 0.74      ,  0.38946904],\n",
       "       [ 0.75      ,  0.39126832],\n",
       "       [ 0.76      ,  0.39304023],\n",
       "       [ 0.77      ,  0.39478369],\n",
       "       [ 0.78      ,  0.39649761],\n",
       "       [ 0.79      ,  0.39818087],\n",
       "       [ 0.8       ,  0.39983235],\n",
       "       [ 0.81      ,  0.4014509 ],\n",
       "       [ 0.82      ,  0.40303535],\n",
       "       [ 0.83      ,  0.40458454],\n",
       "       [ 0.84      ,  0.40609727],\n",
       "       [ 0.85      ,  0.40757233],\n",
       "       [ 0.86      ,  0.40900851],\n",
       "       [ 0.87      ,  0.41040456],\n",
       "       [ 0.88      ,  0.41175924],\n",
       "       [ 0.89      ,  0.41307128],\n",
       "       [ 0.9       ,  0.4143394 ],\n",
       "       [ 0.91      ,  0.41556232],\n",
       "       [ 0.92      ,  0.41673871],\n",
       "       [ 0.93      ,  0.41786728],\n",
       "       [ 0.94      ,  0.41894668],\n",
       "       [ 0.95      ,  0.41997557],\n",
       "       [ 0.96      ,  0.42095259],\n",
       "       [ 0.97      ,  0.42187638],\n",
       "       [ 0.98      ,  0.42274556],\n",
       "       [ 0.99      ,  0.42355873],\n",
       "       [ 1.        ,  0.42431449]])"
      ]
     },
     "execution_count": 415,
     "metadata": {},
     "output_type": "execute_result"
    }
   ],
   "source": [
    "grid"
   ]
  },
  {
   "cell_type": "code",
   "execution_count": 416,
   "metadata": {
    "collapsed": false
   },
   "outputs": [
    {
     "data": {
      "image/png": "[encoded data removed]",
      "text/plain": [
       "<matplotlib.figure.Figure at 0x29f2a616400>"
      ]
     },
     "metadata": {},
     "output_type": "display_data"
    }
   ],
   "source": [
    "import seaborn as sns\n",
    "%matplotlib inline\n",
    "\n",
    "ax = sns.regplot(x=grid[:,0], y=grid[:,1],scatter_kws={\"s\": 40}, fit_reg = False)"
   ]
  },
  {
   "cell_type": "markdown",
   "metadata": {},
   "source": [
    "## Модельное решение"
   ]
  },
  {
   "cell_type": "code",
   "execution_count": 432,
   "metadata": {
    "collapsed": false
   },
   "outputs": [],
   "source": [
    "def polynome(x):\n",
    "    return (x+2.)*(x+2.)*(x+2.)\n",
    "\n",
    "def q(x):\n",
    "    return np.log( 1. + 3.*x)\n",
    "\n",
    "def f(x):\n",
    "    return 6.*(x + 2.) + (x+2.)*(x+2.)*(x+2.)*np.log(3.*x + 1.)\n",
    "\n",
    "def p(x):\n",
    "    return 0."
   ]
  },
  {
   "cell_type": "code",
   "execution_count": 433,
   "metadata": {
    "collapsed": true
   },
   "outputs": [],
   "source": [
    "def a(i):\n",
    "    return 1. + (h / 2.)*p(x_i(i))\n",
    "\n",
    "def c(i):\n",
    "    return 1. - (h / 2.)*p(x_i(i))\n",
    "\n",
    "def b(i):\n",
    "    return 2. - h * h * q(x_i(i))\n",
    "\n",
    "def g(i):\n",
    "    return h * h * f(x_i(i))"
   ]
  },
  {
   "cell_type": "code",
   "execution_count": 434,
   "metadata": {
    "collapsed": false
   },
   "outputs": [
    {
     "name": "stdout",
     "output_type": "stream",
     "text": [
      "0.890149865741 -3.37169220976\n"
     ]
    }
   ],
   "source": [
    "kappa_1 = (-4. + b(1)/a(1)) / (-3.  + c(1)/a(1) - h)\n",
    "upsilon_1 = (16.*h + g(1)/a(1)) / (-3.  + c(1)/a(1) - h)\n",
    "print(kappa_1, upsilon_1)"
   ]
  },
  {
   "cell_type": "code",
   "execution_count": 435,
   "metadata": {
    "collapsed": false
   },
   "outputs": [
    {
     "name": "stdout",
     "output_type": "stream",
     "text": [
      "0.964576378216 6.04884120502\n"
     ]
    }
   ],
   "source": [
    "kappa_2 = (4.* c(n-1) - b(n-1)) / (3 * c(n-1) - a(n-1) + 0.6 * h * c(n-1))\n",
    "upsilon_2 = (52.2 * h * c(n-1) - g(n-1)) / (3 * c(n-1) - a(n-1) + 0.6 * h * c(n-1))\n",
    "print(kappa_2, upsilon_2)"
   ]
  },
  {
   "cell_type": "code",
   "execution_count": 436,
   "metadata": {
    "collapsed": false
   },
   "outputs": [
    {
     "name": "stdout",
     "output_type": "stream",
     "text": [
      "[0.96457637821556108, 6.0488412050166991]\n",
      "[1.0948638309831624, 2.1418731960398296]\n",
      "[1.2075547295650215, -0.47345237488173231]\n",
      "DNO 43.8074748395\n"
     ]
    },
    {
     "data": {
      "text/plain": [
       "63.481377973696347"
      ]
     },
     "execution_count": 436,
     "metadata": {},
     "output_type": "execute_result"
    }
   ],
   "source": [
    "grid2 = [[x_i(i),0] for i in range(0, n+1)]\n",
    "def y(i, u_nxt, v_nxt):\n",
    "    if i==n:\n",
    "        u_curr = u_nxt\n",
    "        v_curr = v_nxt\n",
    "    else:\n",
    "        u_curr = c(i) / (b(i) - a(i)*u_nxt)\n",
    "        v_curr = (a(i)*v_nxt - g(i))/(b(i) - a(i)*u_nxt)\n",
    "    if i==0:\n",
    "        res = (upsilon_1 + kappa_1*v_curr)/(1 - kappa_1*u_curr)\n",
    "        grid2[0][1] = res\n",
    "        print(\"DNO\", res)\n",
    "        return res\n",
    "    print([u_curr, v_curr])\n",
    "    res = v_curr + u_curr * y(i-1, u_curr, v_curr)\n",
    "    grid2[i][1] = res\n",
    "    return  res\n",
    "\n",
    "y(n, kappa_2, upsilon_2)"
   ]
  },
  {
   "cell_type": "code",
   "execution_count": 422,
   "metadata": {
    "collapsed": false
   },
   "outputs": [
    {
     "data": {
      "text/plain": [
       "[[0.0, 64.107225308228394, 8.0],\n",
       " [0.01, 64.506644722927817, 8.120600999999997],\n",
       " [0.02, 64.907103467235672, 8.242408],\n",
       " [0.03, 65.308444032550142, 8.365426999999997],\n",
       " [0.04, 65.710511876062114, 8.489664],\n",
       " [0.05, 66.113155243227908, 8.615124999999999],\n",
       " [0.06, 66.516225006754738, 8.741816],\n",
       " [0.07, 66.919574520395074, 8.869742999999998],\n",
       " [0.08, 67.323059486059449, 8.998912],\n",
       " [0.09, 67.726537832940735, 9.129328999999998],\n",
       " [0.1, 68.129869607498875, 9.261000000000001],\n",
       " [0.11, 68.532916873289565, 9.393930999999998],\n",
       " [0.12, 68.935543619736634, 9.528128000000002],\n",
       " [0.13, 69.337615679048241, 9.663596999999998],\n",
       " [0.14, 69.739000650564037, 9.800344],\n",
       " [0.15, 70.139567831896855, 9.938374999999999],\n",
       " [0.16, 70.53918815629865, 10.077696000000001],\n",
       " [0.17, 70.93773413573895, 10.218313],\n",
       " [0.18, 71.335079809234998, 10.360232000000002],\n",
       " [0.19, 71.731100696018231, 10.503459],\n",
       " [0.2, 72.125673753161465, 10.648000000000003],\n",
       " [0.21, 72.518677337326537, 10.793861],\n",
       " [0.22, 72.909991170323551, 10.941048000000002],\n",
       " [0.23, 73.299496308200673, 11.089567],\n",
       " [0.24, 73.687075113608699, 11.239424000000003],\n",
       " [0.25, 74.072611231206309, 11.390625],\n",
       " [0.26, 74.455989565892509, 11.543175999999995],\n",
       " [0.27, 74.837096263669878, 11.697083],\n",
       " [0.28, 75.215818694959211, 11.852352000000003],\n",
       " [0.29, 75.592045440199627, 12.008989000000001],\n",
       " [0.3, 75.965666277582244, 12.166999999999996],\n",
       " [0.31, 76.33657217277657, 12.326391000000001],\n",
       " [0.32, 76.704655270519766, 12.487167999999999],\n",
       " [0.33, 77.069808887948525, 12.649337000000001],\n",
       " [0.34, 77.431927509562314, 12.812903999999998],\n",
       " [0.35000000000000003, 77.790906783714149, 12.977875000000003],\n",
       " [0.36, 78.14664352053309, 13.144255999999999],\n",
       " [0.37, 78.499035691188539, 13.312053],\n",
       " [0.38, 78.847982428413133, 13.481271999999999],\n",
       " [0.39, 79.193384028205855, 13.651919000000001],\n",
       " [0.4, 79.535141952642732, 13.824],\n",
       " [0.41000000000000003, 79.873158833726563, 13.997521000000003],\n",
       " [0.42, 80.207338478211753, 14.172488],\n",
       " [0.43, 80.537585873343886, 14.348907000000002],\n",
       " [0.44, 80.863807193457731, 14.526784],\n",
       " [0.45, 81.185909807380042, 14.706125000000004],\n",
       " [0.46, 81.503802286587174, 14.886935999999999],\n",
       " [0.47000000000000003, 81.81739441406981, 15.069223000000004],\n",
       " [0.48, 82.126597193860164, 15.252992],\n",
       " [0.49, 82.431322861179083, 15.438249000000003],\n",
       " [0.5, 82.731484893162786, 15.625],\n",
       " [0.51, 83.026998020130847, 15.813250999999996],\n",
       " [0.52, 83.317778237359562, 16.003008],\n",
       " [0.53, 83.603742817325582, 16.194277000000003],\n",
       " [0.54, 83.884810322387352, 16.387064],\n",
       " [0.55, 84.160900617872585, 16.581374999999998],\n",
       " [0.56, 84.431934885542077, 16.777216000000003],\n",
       " [0.5700000000000001, 84.697835637400956, 16.974593000000006],\n",
       " [0.58, 84.958526729830055, 17.173512000000002],\n",
       " [0.59, 85.213933378011021, 17.373978999999995],\n",
       " [0.6, 85.463982170619929, 17.576000000000004],\n",
       " [0.61, 85.708601084765235, 17.779580999999997],\n",
       " [0.62, 85.947719501146551, 17.984728000000004],\n",
       " [0.63, 86.18126821941209, 18.191446999999997],\n",
       " [0.64, 86.409179473692888, 18.399744000000002],\n",
       " [0.65, 86.631386948293084, 18.609624999999998],\n",
       " [0.66, 86.84782579351608, 18.821096],\n",
       " [0.67, 87.058432641607126, 19.034163],\n",
       " [0.68, 87.263145622793516, 19.248832000000004],\n",
       " [0.6900000000000001, 87.461904381404153, 19.465108999999998],\n",
       " [0.7000000000000001, 87.654650092050787, 19.683000000000003],\n",
       " [0.71, 87.841325475853836, 19.902511],\n",
       " [0.72, 88.021874816696183, 20.123647999999996],\n",
       " [0.73, 88.196243977488635, 20.346417],\n",
       " [0.74, 88.364380416431601, 20.570824000000005],\n",
       " [0.75, 88.526233203257434, 20.796875],\n",
       " [0.76, 88.681753035438732, 21.024575999999996],\n",
       " [0.77, 88.830892254348086, 21.253933],\n",
       " [0.78, 88.973604861355042, 21.484952000000007],\n",
       " [0.79, 89.109846533846635, 21.717639000000002],\n",
       " [0.8, 89.239574641157844, 21.951999999999995],\n",
       " [0.81, 89.36274826039913, 22.188041000000002],\n",
       " [0.8200000000000001, 89.479328192167884, 22.42576800000001],\n",
       " [0.8300000000000001, 89.589276976131444, 22.665187000000003],\n",
       " [0.84, 89.692558906469444, 22.906304],\n",
       " [0.85, 89.789140047163258, 23.149125],\n",
       " [0.86, 89.878988247121043, 23.393655999999996],\n",
       " [0.87, 89.962073155126717, 23.639903],\n",
       " [0.88, 90.038366234601696, 23.887871999999998],\n",
       " [0.89, 90.107840778168267, 24.137569000000003],\n",
       " [0.9, 90.170471922003827, 24.389],\n",
       " [0.91, 90.226236659975342, 24.642171000000005],\n",
       " [0.92, 90.275113857543715, 24.897087999999997],\n",
       " [0.93, 90.317084265427766, 25.153757000000006],\n",
       " [0.9400000000000001, 90.352130533017885, 25.412183999999996],\n",
       " [0.9500000000000001, 90.380237221529427, 25.672375000000002],\n",
       " [0.96, 90.401390816886504, 25.934336],\n",
       " [0.97, 90.415579742326344, 26.198072999999994],\n",
       " [0.98, 90.42279437071538, 26.463592],\n",
       " [0.99, 90.423027036567518, 26.730899000000004],\n",
       " [1.0, 90.416272047756067, 27.0]]"
      ]
     },
     "execution_count": 422,
     "metadata": {},
     "output_type": "execute_result"
    }
   ],
   "source": [
    "for i in grid2:\n",
    "    i.append(polynome(i[0]))\n",
    "    \n",
    "grid2"
   ]
  },
  {
   "cell_type": "code",
   "execution_count": 423,
   "metadata": {
    "collapsed": false
   },
   "outputs": [
    {
     "data": {
      "image/png": "[encoded data removed]",
      "text/plain": [
       "<matplotlib.figure.Figure at 0x29f2a7b3860>"
      ]
     },
     "metadata": {},
     "output_type": "display_data"
    }
   ],
   "source": [
    "grid2=np.array(grid2)\n",
    "ax = sns.regplot(x=grid2[:,0], y=grid2[:,1],scatter_kws={\"s\": 40}, fit_reg = False)"
   ]
  }
 ],
 "metadata": {
  "kernelspec": {
   "display_name": "Python 3",
   "language": "python",
   "name": "python3"
  },
  "language_info": {
   "codemirror_mode": {
    "name": "ipython",
    "version": 3
   },
   "file_extension": ".py",
   "mimetype": "text/x-python",
   "name": "python",
   "nbconvert_exporter": "python",
   "pygments_lexer": "ipython3",
   "version": "3.6.0"
  }
 },
 "nbformat": 4,
 "nbformat_minor": 2
}
