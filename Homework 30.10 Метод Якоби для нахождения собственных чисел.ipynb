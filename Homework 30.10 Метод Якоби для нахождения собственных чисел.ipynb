{
 "cells": [
  {
   "cell_type": "markdown",
   "metadata": {},
   "source": [
    "# Homework #4"
   ]
  },
  {
   "cell_type": "markdown",
   "metadata": {},
   "source": [
    "30.10.2017\n",
    "Python 3.6"
   ]
  },
  {
   "cell_type": "markdown",
   "metadata": {},
   "source": [
    "## Jacobi method\n",
    "### Через перемножение матриц"
   ]
  },
  {
   "cell_type": "code",
   "execution_count": 1,
   "metadata": {
    "collapsed": true
   },
   "outputs": [],
   "source": [
    "#imports\n",
    "import numpy as np\n",
    "from numpy import linalg as LA\n",
    "import time\n",
    "import math"
   ]
  },
  {
   "cell_type": "code",
   "execution_count": 2,
   "metadata": {
    "collapsed": false
   },
   "outputs": [
    {
     "data": {
      "text/plain": [
       "matrix([[ 0.72,  0.45,  0.38],\n",
       "        [ 0.45,  0.91,  0.56],\n",
       "        [ 0.38,  0.56,  0.12]])"
      ]
     },
     "execution_count": 2,
     "metadata": {},
     "output_type": "execute_result"
    }
   ],
   "source": [
    "A = np.matrix([[0.72, 0.45 , 0.38], [0.45, 0.91, .56], [0.38, 0.56, 0.12]])\n",
    "\n",
    "A"
   ]
  },
  {
   "cell_type": "code",
   "execution_count": 3,
   "metadata": {
    "collapsed": true
   },
   "outputs": [],
   "source": [
    "def max_nondiogonal_element(matrix):\n",
    "    n = matrix.shape[0]\n",
    "    max = [matrix[0,1], 0, 1]\n",
    "    for i in range(0,n):\n",
    "        for c in range(i+1,n):\n",
    "            if abs(matrix[i,c])>abs(max[0]):\n",
    "                max = [matrix[i,c], i, c]\n",
    "    return [max[1],  max[2]]\n",
    "\n",
    "def nondiogonal_square_sum(matrix):\n",
    "    n = matrix.shape[0]\n",
    "    return 2 * sum(matrix[i,j]*matrix[i,j] for i in range(0,n) for j in range(i+1,n))"
   ]
  },
  {
   "cell_type": "code",
   "execution_count": 4,
   "metadata": {
    "collapsed": false
   },
   "outputs": [
    {
     "name": "stdout",
     "output_type": "stream",
     "text": [
      "[1, 2]\n",
      "1.321\n",
      "(3, 3)\n"
     ]
    }
   ],
   "source": [
    "print(max_nondiogonal_element(A))\n",
    "print(nondiogonal_square_sum(A))\n",
    "print(A.shape)"
   ]
  },
  {
   "cell_type": "code",
   "execution_count": 10,
   "metadata": {
    "collapsed": false,
    "scrolled": true
   },
   "outputs": [
    {
     "name": "stdout",
     "output_type": "stream",
     "text": [
      "[[ 0.72  0.45  0.38]\n",
      " [ 0.45  0.91  0.56]\n",
      " [ 0.38  0.56  0.12]]\n",
      "---\n",
      "[[  7.20000000e-01   5.74395680e-01   1.30267428e-01]\n",
      " [  5.74395680e-01   1.20029191e+00   1.11022302e-16]\n",
      " [  1.30267428e-01   4.16333634e-17  -1.70291909e-01]]\n",
      "---\n",
      "[[ 0.33757027  0.          0.10843266]\n",
      " [ 0.          1.58272163  0.07219391]\n",
      " [ 0.10843266  0.07219391 -0.17029191]]\n",
      "---\n",
      "[[  3.59752640e-01   1.44692402e-02   0.00000000e+00]\n",
      " [  1.44692402e-02   1.58272163e+00   7.07290766e-02]\n",
      " [  3.46944695e-17   7.07290766e-02  -1.92474274e-01]]\n",
      "---\n",
      "[[  3.59752640e-01   1.44578054e-02  -5.75130349e-04]\n",
      " [  1.44578054e-02   1.58553523e+00   8.04911693e-16]\n",
      " [ -5.75130349e-04   7.44196371e-16  -1.95287871e-01]]\n",
      "---\n",
      "[[  3.59582138e-01  -1.69916164e-15  -5.75090360e-04]\n",
      " [ -1.67921232e-15   1.58570573e+00  -6.78210656e-06]\n",
      " [ -5.75090360e-04  -6.78210656e-06  -1.95287871e-01]]\n",
      "---\n",
      "[[  3.59582734e-01   7.02924435e-09   5.99786063e-15]\n",
      " [  7.02924437e-09   1.58570573e+00  -6.78210292e-06]\n",
      " [  6.03263641e-15  -6.78210292e-06  -1.95288467e-01]]\n",
      "6\n",
      "[0.35958273354792697, 1.5857057332264182, -0.19528846677434514]\n"
     ]
    }
   ],
   "source": [
    "eps = 0.00000001\n",
    "\n",
    "n = A.shape[0]\n",
    "C = np.copy(A)\n",
    "C_prev = np.zeros(C.shape)\n",
    "counter = 0\n",
    "print(A)\n",
    "while (nondiogonal_square_sum(C) > eps):\n",
    "    C_prev = np.copy(C)\n",
    "    a = max_nondiogonal_element(C)\n",
    "    i = a[0]\n",
    "    j = a[1]\n",
    "    T = np.identity(n)\n",
    "    d = math.sqrt((C[i, i] - C[j, j]) * (C[i, i] - C[j, j]) + 4. * C[i,j] * C[i,j])\n",
    "    cos_phi = math.sqrt((1. + abs(C[i, i] - C[j, j]) / d) /2.)\n",
    "    sin_phi = np.sign(C[i,j] * (C[i, i] - C[j, j])) * math.sqrt((1 - np.abs(C[i, i] - C[j, j]) / d) /2.)\n",
    "    T[i, i] = cos_phi\n",
    "    T[j, j] = cos_phi\n",
    "    T[j, i] = sin_phi\n",
    "    T[i, j] = -sin_phi\n",
    "    C = T.transpose() @ C @ T\n",
    "    counter += 1\n",
    "    print(\"---\")\n",
    "    print(C)\n",
    "\n",
    "print(counter)\n",
    "result_m = [C[i,i] for i in range(n)]\n",
    "print(result_m)"
   ]
  },
  {
   "cell_type": "markdown",
   "metadata": {},
   "source": [
    "### В явном виде"
   ]
  },
  {
   "cell_type": "markdown",
   "metadata": {
    "collapsed": false
   },
   "source": [
    "#### n = A.shape[0]\n",
    "C = np.copy(A)\n",
    "counter = 0\n",
    "while (nondiogonal_square_sum(C) > eps):\n",
    "    C_prev = np.copy(C)\n",
    "    a = max_nondiogonal_element(C_prev)\n",
    "    i = a[0]\n",
    "    j = a[1]\n",
    "    d = math.sqrt((C_prev[i, i] - C_prev[j, j]) * (C_prev[i, i] - C_prev[j, j]) + 4. * C_prev[i,j] * C_prev[i,j])\n",
    "    cos_phi = math.sqrt((1. + abs(C_prev[i, i] - C_prev[j, j]) / d) /2.)\n",
    "    sin_phi = np.sign(C_prev[i,j] * (C_prev[i, i] - C_prev[j, j])) * math.sqrt((1 - np.abs(C_prev[i, i] - C_prev[j, j]) / d) /2.)\n",
    "    for k in range(0,n):\n",
    "        if (k!=i):\n",
    "            C[k, i] = C_prev[k, i] * cos_phi + C_prev[k, j] * sin_phi\n",
    "            C[i, k] = C[k,i]\n",
    "    for k in range(0,n):\n",
    "        if (k!=j) and (k!=i):\n",
    "            C[k, j] = -C_prev[k, i] * sin_phi + C_prev[k, j] * cos_phi\n",
    "            C[j, k] = C[k,j]\n",
    "    C[i, i] = ((C_prev[i, i] + C_prev[j, j]) + np.sign(C_prev[i, i] - C_prev[j, j]) * d) / 2.\n",
    "    C[j, j] = ((C_prev[i, i] + C_prev[j, j]) - np.sign(C_prev[i, i] - C_prev[j, j]) * d) / 2.\n",
    "    C[i, j] = 0.\n",
    "    C[j, i] = 0.\n",
    "    counter += 1\n",
    "    print(C)\n",
    "\n",
    "print(counter)\n",
    "result_f = [C[i,i] for i in range(n)]\n",
    "print(result_f)"
   ]
  },
  {
   "cell_type": "markdown",
   "metadata": {},
   "source": [
    "#### Проверка"
   ]
  },
  {
   "cell_type": "code",
   "execution_count": 8,
   "metadata": {
    "collapsed": false
   },
   "outputs": [
    {
     "name": "stdout",
     "output_type": "stream",
     "text": [
      "[ 1.58570573  0.35958273 -0.19528847]\n"
     ]
    }
   ],
   "source": [
    "w, v = LA.eig(A)\n",
    "print(w)"
   ]
  }
 ],
 "metadata": {
  "kernelspec": {
   "display_name": "Python 3",
   "language": "python",
   "name": "python3"
  },
  "language_info": {
   "codemirror_mode": {
    "name": "ipython",
    "version": 3
   },
   "file_extension": ".py",
   "mimetype": "text/x-python",
   "name": "python",
   "nbconvert_exporter": "python",
   "pygments_lexer": "ipython3",
   "version": "3.6.0"
  }
 },
 "nbformat": 4,
 "nbformat_minor": 2
}
