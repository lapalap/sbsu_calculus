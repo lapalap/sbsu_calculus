{
 "cells": [
  {
   "cell_type": "markdown",
   "metadata": {},
   "source": [
    "# Homework #4"
   ]
  },
  {
   "cell_type": "markdown",
   "metadata": {},
   "source": [
    "30.10.2017\n",
    "Python 3.6"
   ]
  },
  {
   "cell_type": "markdown",
   "metadata": {},
   "source": [
    "## Jacobi method\n",
    "### Через перемножение матриц"
   ]
  },
  {
   "cell_type": "code",
   "execution_count": 95,
   "metadata": {
    "collapsed": true
   },
   "outputs": [],
   "source": [
    "#imports\n",
    "import numpy as np\n",
    "from numpy import linalg as LA\n",
    "import time"
   ]
  },
  {
   "cell_type": "code",
   "execution_count": 96,
   "metadata": {
    "collapsed": false
   },
   "outputs": [
    {
     "data": {
      "text/plain": [
       "matrix([[ 0.72,  0.45,  0.38],\n",
       "        [ 0.45,  0.91,  0.56],\n",
       "        [ 0.38,  0.56,  0.12]])"
      ]
     },
     "execution_count": 96,
     "metadata": {},
     "output_type": "execute_result"
    }
   ],
   "source": [
    "A = np.matrix([[0.72, 0.45 , 0.38], [0.45, 0.91, .56], [0.38, 0.56, 0.12]])\n",
    "eps = 0.00001\n",
    "\n",
    "A"
   ]
  },
  {
   "cell_type": "code",
   "execution_count": 97,
   "metadata": {
    "collapsed": true
   },
   "outputs": [],
   "source": [
    "def max_nondiogonal_element(matrix):\n",
    "    n = matrix.shape[0]\n",
    "    max = [matrix[0,1], 0, 1]\n",
    "    for i in range(0,n):\n",
    "        for c in range(i+1,n):\n",
    "            if matrix[i,c]>max[0]:\n",
    "                max = [matrix[i,c], i, c]\n",
    "    return [max[1],  max[2]]"
   ]
  },
  {
   "cell_type": "code",
   "execution_count": 98,
   "metadata": {
    "collapsed": false
   },
   "outputs": [
    {
     "name": "stdout",
     "output_type": "stream",
     "text": [
      "[1, 2]\n",
      "(3, 3)\n"
     ]
    }
   ],
   "source": [
    "print(max_nondiogonal_element(A))\n",
    "print(A.shape)"
   ]
  },
  {
   "cell_type": "code",
   "execution_count": 99,
   "metadata": {
    "collapsed": false,
    "scrolled": true
   },
   "outputs": [
    {
     "name": "stdout",
     "output_type": "stream",
     "text": [
      "1\n",
      "[0.71999999999999997, 1.2002919086053767, -0.17029190860537674]\n"
     ]
    }
   ],
   "source": [
    "n = A.shape[0]\n",
    "C = np.copy(A)\n",
    "C_prev = np.zeros(C.shape)\n",
    "counter = 0\n",
    "while (abs(C[0,0] - C_prev[0,0]) > eps):\n",
    "    C_prev = np.copy(C)\n",
    "    a = max_nondiogonal_element(C)\n",
    "    i = a[0]\n",
    "    j = a[1]\n",
    "    T = np.identity(n)\n",
    "    d = np.sqrt((C[i, i] - C[j, j]) * (C[i, i] - C[j, j]) + 4 * C[i,j] * C[i,j])\n",
    "    cos_phi = np.sqrt((1 + np.abs(C[i, i] - C[j, j]) / d) /2.)\n",
    "    sin_phi = np.sign(C[i,j] * (C[i, i] - C[j, j])) * np.sqrt((1 - np.abs(C[i, i] - C[j, j]) / d) /2.)\n",
    "    T[i, i] = cos_phi\n",
    "    T[j, j] = cos_phi\n",
    "    T[j, i] = sin_phi\n",
    "    T[i, j] = -sin_phi\n",
    "    C = T.transpose() @ C @ T\n",
    "    counter += 1\n",
    "\n",
    "print(counter)\n",
    "result_m = [C[i,i] for i in range(n)]\n",
    "print(result_m)"
   ]
  },
  {
   "cell_type": "markdown",
   "metadata": {},
   "source": [
    "### В явном виде"
   ]
  },
  {
   "cell_type": "code",
   "execution_count": 100,
   "metadata": {
    "collapsed": false
   },
   "outputs": [
    {
     "name": "stdout",
     "output_type": "stream",
     "text": [
      "[[ 0.72        0.57439568  0.16248277]\n",
      " [ 0.57439568  1.20029191  0.        ]\n",
      " [ 0.16248277  0.         -0.17029191]]\n",
      "1\n",
      "[0.71999999999999997, 1.2002919086053767, -0.1702919086053768]\n"
     ]
    }
   ],
   "source": [
    "n = A.shape[0]\n",
    "C = np.copy(A)\n",
    "C_prev = np.zeros(C.shape)\n",
    "counter = 0\n",
    "while (abs(C[0,0] - C_prev[0,0]) > eps):\n",
    "    C_prev = np.copy(C)\n",
    "    a = max_nondiogonal_element(C_prev)\n",
    "    i = a[0]\n",
    "    j = a[1]\n",
    "    d = np.sqrt((C_prev[i, i] - C_prev[j, j]) * (C_prev[i, i] - C_prev[j, j]) + 4 * C_prev[i,j] * C_prev[i,j])\n",
    "    cos_phi = np.sqrt((1 + np.abs(C[i, i] - C[j, j]) / d) /2.)\n",
    "    sin_phi = np.sign(C[i,j] * (C[i, i] - C[j, j])) * np.sqrt((1 - np.abs(C[i, i] - C[j, j]) / d) /2.)\n",
    "    for k in range(0,n):\n",
    "        if k!=i:\n",
    "            C[k, i] = C_prev[k, i] * cos_phi +C[k, j] * sin_phi\n",
    "            C[i, k] = C[k,i]\n",
    "            if k!=j:\n",
    "                C[k, j] = -C_prev[k, j] * sin_phi +C[k, j] * cos_phi\n",
    "                C[j, k] = C[k,j]\n",
    "    C[i, i] = ((C_prev[i, i] + C_prev[j, j]) + np.sign(C_prev[i, i] - C_prev[j, j]) * d) / 2.\n",
    "    C[j, j] = ((C_prev[i, i] + C_prev[j, j]) - np.sign(C_prev[i, i] - C_prev[j, j]) * d) / 2.\n",
    "    C[i, j] = 0\n",
    "    C[j, i] = 0\n",
    "    counter += 1\n",
    "    print(C)\n",
    "\n",
    "print(counter)\n",
    "result_f = [C[i,i] for i in range(n)]\n",
    "print(result_f)"
   ]
  },
  {
   "cell_type": "markdown",
   "metadata": {},
   "source": [
    "#### Проверка"
   ]
  },
  {
   "cell_type": "code",
   "execution_count": 101,
   "metadata": {
    "collapsed": false
   },
   "outputs": [
    {
     "name": "stdout",
     "output_type": "stream",
     "text": [
      "[ 1.58570573  0.35958273 -0.19528847]\n"
     ]
    }
   ],
   "source": [
    "w, v = LA.eig(A)\n",
    "print(w)"
   ]
  }
 ],
 "metadata": {
  "kernelspec": {
   "display_name": "Python 3",
   "language": "python",
   "name": "python3"
  },
  "language_info": {
   "codemirror_mode": {
    "name": "ipython",
    "version": 3
   },
   "file_extension": ".py",
   "mimetype": "text/x-python",
   "name": "python",
   "nbconvert_exporter": "python",
   "pygments_lexer": "ipython3",
   "version": "3.6.0"
  }
 },
 "nbformat": 4,
 "nbformat_minor": 2
}
