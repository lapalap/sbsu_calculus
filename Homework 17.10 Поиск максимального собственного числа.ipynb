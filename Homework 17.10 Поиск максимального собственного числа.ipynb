{
 "cells": [
  {
   "cell_type": "markdown",
   "metadata": {},
   "source": [
    "# Homework #3: Поиск максимального собственного числа"
   ]
  },
  {
   "cell_type": "markdown",
   "metadata": {},
   "source": [
    "Python 3.6 17.10.2017 Bykov Kirill"
   ]
  },
  {
   "cell_type": "markdown",
   "metadata": {},
   "source": [
    "## 1. Степенной метод"
   ]
  },
  {
   "cell_type": "code",
   "execution_count": 1,
   "metadata": {
    "collapsed": true
   },
   "outputs": [],
   "source": [
    "#imports\n",
    "import numpy as np\n",
    "from numpy import linalg as LA\n",
    "import time"
   ]
  },
  {
   "cell_type": "code",
   "execution_count": 2,
   "metadata": {
    "collapsed": false
   },
   "outputs": [
    {
     "name": "stdout",
     "output_type": "stream",
     "text": [
      "[[ 0.72  0.45  0.38]\n",
      " [ 0.45  0.91  0.56]\n",
      " [ 0.38  0.56  0.12]]\n"
     ]
    }
   ],
   "source": [
    "A = np.matrix([[0.72, 0.45 , 0.38], [0.45, 0.91, .56], [0.38, 0.56, 0.12]])\n",
    "eps = 0.00000000000001\n",
    "\n",
    "print(A)"
   ]
  },
  {
   "cell_type": "code",
   "execution_count": 3,
   "metadata": {
    "collapsed": false
   },
   "outputs": [],
   "source": [
    "y_curr = np.matrix([1.,1.,1.]).T"
   ]
  },
  {
   "cell_type": "code",
   "execution_count": 4,
   "metadata": {
    "collapsed": false
   },
   "outputs": [
    {
     "name": "stdout",
     "output_type": "stream",
     "text": [
      "1.58570573325\n",
      "--- 0.003002643585205078 seconds ---\n"
     ]
    }
   ],
   "source": [
    "lambda_curr = 0\n",
    "lambda_prev = 2*eps\n",
    "start_time = time.time()\n",
    "while (abs(lambda_curr - lambda_prev)>eps):\n",
    "    y_prev = np.copy(y_curr)\n",
    "    lambda_prev = lambda_curr\n",
    "    y_curr = np.dot(A,y_prev)\n",
    "    lambda_curr = y_curr[1,0]/y_prev[1,0]\n",
    "print(lambda_curr)\n",
    "print(\"--- %s seconds ---\" % (time.time() - start_time))"
   ]
  },
  {
   "cell_type": "markdown",
   "metadata": {},
   "source": [
    "#### Проверка"
   ]
  },
  {
   "cell_type": "code",
   "execution_count": 5,
   "metadata": {
    "collapsed": false,
    "scrolled": true
   },
   "outputs": [
    {
     "name": "stdout",
     "output_type": "stream",
     "text": [
      "[ 1.58570573  0.35958273 -0.19528847]\n"
     ]
    }
   ],
   "source": [
    "w, v = LA.eig(A)\n",
    "print(w)"
   ]
  },
  {
   "cell_type": "markdown",
   "metadata": {},
   "source": [
    "## 2. Метод скалярных произведений"
   ]
  },
  {
   "cell_type": "code",
   "execution_count": 6,
   "metadata": {
    "collapsed": true
   },
   "outputs": [],
   "source": [
    "A = np.matrix([[0.72, 0.45 , 0.38], [0.45, 0.91, .56], [0.38, 0.56, 0.12]])\n",
    "A_1 = np.matrix([[0.72, 0.45 , 0.38], [0.45, 0.91, .56], [0.38, 0.56, 0.12]])\n",
    "eps = 0.000000000001"
   ]
  },
  {
   "cell_type": "code",
   "execution_count": 7,
   "metadata": {
    "collapsed": false
   },
   "outputs": [
    {
     "data": {
      "text/plain": [
       "(3, 1)"
      ]
     },
     "execution_count": 7,
     "metadata": {},
     "output_type": "execute_result"
    }
   ],
   "source": [
    "Y_curr = np.matrix([1.,1.,1.]).T\n",
    "Z_curr = np.matrix([1.,1.,1.]).T\n",
    "Y_curr.shape"
   ]
  },
  {
   "cell_type": "code",
   "execution_count": 8,
   "metadata": {
    "collapsed": false
   },
   "outputs": [
    {
     "name": "stdout",
     "output_type": "stream",
     "text": [
      "1.58570573325\n",
      "--- 0.0015010833740234375 seconds ---\n"
     ]
    }
   ],
   "source": [
    "lambda_curr = 0\n",
    "lambda_prev = 2*eps\n",
    "start_time = time.time()\n",
    "while (abs(lambda_curr - lambda_prev)>eps):\n",
    "    lambda_prev = lambda_curr\n",
    "    Y_prev = np.copy(Y_curr)\n",
    "    Z_prev = np.copy(Z_curr)\n",
    "    \n",
    "    Y_curr = np.dot(A,Y_curr)\n",
    "    Z_curr = np.dot(A_1,Z_curr)\n",
    "    \n",
    "    lambda_curr = sum(Y_curr[i,0]*Z_curr[i,0] for i in range(Y_curr.shape[0])) / sum(Y_prev[i,0]*Z_curr[i,0] for i in range(Y_prev.shape[0]))\n",
    "    \n",
    "print(lambda_curr)\n",
    "print(\"--- %s seconds ---\" % (time.time() - start_time))"
   ]
  }
 ],
 "metadata": {
  "kernelspec": {
   "display_name": "Python 3",
   "language": "python",
   "name": "python3"
  },
  "language_info": {
   "codemirror_mode": {
    "name": "ipython",
    "version": 3
   },
   "file_extension": ".py",
   "mimetype": "text/x-python",
   "name": "python",
   "nbconvert_exporter": "python",
   "pygments_lexer": "ipython3",
   "version": "3.6.0"
  }
 },
 "nbformat": 4,
 "nbformat_minor": 2
}
