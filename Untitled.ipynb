{
 "cells": [
  {
   "cell_type": "markdown",
   "metadata": {
    "collapsed": true
   },
   "source": [
    "# Homework #5"
   ]
  },
  {
   "cell_type": "markdown",
   "metadata": {},
   "source": [
    "27.11.2017\n",
    "Python 3.6"
   ]
  },
  {
   "cell_type": "markdown",
   "metadata": {},
   "source": [
    "### Метод сеток для решения обыкновенного дифференциального уравнения 2-го порядка, краевая задача"
   ]
  },
  {
   "cell_type": "markdown",
   "metadata": {},
   "source": [
    "#### Правая прогонка"
   ]
  },
  {
   "cell_type": "markdown",
   "metadata": {},
   "source": [
    "y''+ p(x) * y' + q(x) * y = f(x)"
   ]
  },
  {
   "cell_type": "code",
   "execution_count": 3,
   "metadata": {
    "collapsed": true
   },
   "outputs": [],
   "source": [
    "import numpy as np"
   ]
  },
  {
   "cell_type": "code",
   "execution_count": 9,
   "metadata": {
    "collapsed": true
   },
   "outputs": [],
   "source": [
    "n = 100\n",
    "r = 0\n",
    "l = 1\n",
    "h = (b-a) / n\n",
    "\n",
    "def x_i(i):\n",
    "    return r + i*h "
   ]
  },
  {
   "cell_type": "markdown",
   "metadata": {},
   "source": [
    "### Задача\n",
    "y'(0) = 0.5 * y(0) + 0.1\n",
    "\n",
    "y'(1) =-0.3 * y(1) + 0.2\n",
    "\n",
    "-y'' + log(1+3x) = x - x^2\n"
   ]
  },
  {
   "cell_type": "code",
   "execution_count": 10,
   "metadata": {
    "collapsed": true
   },
   "outputs": [],
   "source": [
    "def q(x):\n",
    "    return np.log( 1. + 3.*x)\n",
    "\n",
    "def f(x):\n",
    "    return x - x*x\n",
    "\n",
    "def p(x):\n",
    "    return 0"
   ]
  },
  {
   "cell_type": "code",
   "execution_count": 11,
   "metadata": {
    "collapsed": true
   },
   "outputs": [],
   "source": [
    "def a(i):\n",
    "    return 1. + (h / 2.)*p(x_i(i))\n",
    "\n",
    "def c(i):\n",
    "    return 1. - (h / 2.)*p(x_i(i))\n",
    "\n",
    "def b(i):\n",
    "    return 2. - h * h * q(x_i(i))\n",
    "\n",
    "def g(i):\n",
    "    return h * h * f(x_i(i))"
   ]
  },
  {
   "cell_type": "code",
   "execution_count": 12,
   "metadata": {
    "collapsed": true
   },
   "outputs": [],
   "source": [
    "def u(a_i, b_i, c_i, u_prev):\n",
    "    return a_i / (b_i - c_i * u_prev)\n",
    "\n",
    "def v(b_i, c_i, g_i, u_prev, v_prev):\n",
    "    return (c_i*v_prev - g_i) / (b_i - c_i * u_prev)    "
   ]
  },
  {
   "cell_type": "markdown",
   "metadata": {},
   "source": [
    "Для данной задачи выведено, что:\n",
    "\n",
    "\n",
    "$$\\kappa_1 = \\frac{-4a_1 + b_1}{-3a_1+c_1-ha_1}$$\n",
    "$$\\upsilon_1 = \\frac{0,2ha_1}{-3a_1+c_1-ha_1}$$\n"
   ]
  },
  {
   "cell_type": "code",
   "execution_count": 15,
   "metadata": {
    "collapsed": false
   },
   "outputs": [
    {
     "data": {
      "text/plain": [
       "-0.0009950248756218907"
      ]
     },
     "execution_count": 15,
     "metadata": {},
     "output_type": "execute_result"
    }
   ],
   "source": [
    "kappa = (-4.* a(1) + b(1)) / (-3.*a(1) +c(1) -h * a(1))\n",
    "upsilon = (0.2 * h * a(1)) / (-3.*a(1) +c(1) -h * a(1))\n",
    "upsilon"
   ]
  },
  {
   "cell_type": "code",
   "execution_count": null,
   "metadata": {
    "collapsed": true
   },
   "outputs": [],
   "source": [
    "u = kappa\n",
    "v = upsilon"
   ]
  }
 ],
 "metadata": {
  "kernelspec": {
   "display_name": "Python 3",
   "language": "python",
   "name": "python3"
  },
  "language_info": {
   "codemirror_mode": {
    "name": "ipython",
    "version": 3
   },
   "file_extension": ".py",
   "mimetype": "text/x-python",
   "name": "python",
   "nbconvert_exporter": "python",
   "pygments_lexer": "ipython3",
   "version": "3.6.0"
  }
 },
 "nbformat": 4,
 "nbformat_minor": 2
}
